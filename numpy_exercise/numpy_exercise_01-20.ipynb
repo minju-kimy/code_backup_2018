{
 "cells": [
  {
   "cell_type": "code",
   "execution_count": 2,
   "metadata": {},
   "outputs": [],
   "source": [
    "# numpy exercise 1~20"
   ]
  },
  {
   "cell_type": "code",
   "execution_count": 3,
   "metadata": {},
   "outputs": [],
   "source": [
    "import numpy as np"
   ]
  },
  {
   "cell_type": "code",
   "execution_count": 4,
   "metadata": {},
   "outputs": [
    {
     "name": "stdout",
     "output_type": "stream",
     "text": [
      "1.16.5\n"
     ]
    }
   ],
   "source": [
    "print(np.__version__)"
   ]
  },
  {
   "cell_type": "code",
   "execution_count": 6,
   "metadata": {},
   "outputs": [
    {
     "name": "stdout",
     "output_type": "stream",
     "text": [
      "[0. 0. 0. 0. 0. 0. 0. 0. 0. 0.]\n"
     ]
    }
   ],
   "source": [
    "z = np.zeros(10)\n",
    "print(z)"
   ]
  },
  {
   "cell_type": "code",
   "execution_count": 7,
   "metadata": {},
   "outputs": [
    {
     "name": "stdout",
     "output_type": "stream",
     "text": [
      "80 bytes\n"
     ]
    }
   ],
   "source": [
    "print(\"%d bytes\" % (z.size*z.itemsize))"
   ]
  },
  {
   "cell_type": "code",
   "execution_count": 8,
   "metadata": {},
   "outputs": [
    {
     "name": "stdout",
     "output_type": "stream",
     "text": [
      "10\n",
      "8\n"
     ]
    }
   ],
   "source": [
    "print(z.size)\n",
    "print(z.itemsize)"
   ]
  },
  {
   "cell_type": "code",
   "execution_count": 9,
   "metadata": {},
   "outputs": [
    {
     "name": "stdout",
     "output_type": "stream",
     "text": [
      "[0. 0. 0. 0. 1. 0. 0. 0. 0. 0.]\n"
     ]
    }
   ],
   "source": [
    "z = np.zeros(10)\n",
    "z[4] = 1\n",
    "print(z)"
   ]
  },
  {
   "cell_type": "code",
   "execution_count": 11,
   "metadata": {},
   "outputs": [
    {
     "name": "stdout",
     "output_type": "stream",
     "text": [
      "[10 11 12 13 14 15 16 17 18 19 20 21 22 23 24 25 26 27 28 29 30 31 32 33\n",
      " 34 35 36 37 38 39 40 41 42 43 44 45 46 47 48 49]\n"
     ]
    }
   ],
   "source": [
    "z = np.arange(10,50)\n",
    "print(z)"
   ]
  },
  {
   "cell_type": "code",
   "execution_count": 14,
   "metadata": {},
   "outputs": [
    {
     "data": {
      "text/plain": [
       "array([49, 48, 47, 46, 45, 44, 43, 42, 41, 40, 39, 38, 37, 36, 35, 34, 33,\n",
       "       32, 31, 30, 29, 28, 27, 26, 25, 24, 23, 22, 21, 20, 19, 18, 17, 16,\n",
       "       15, 14, 13, 12, 11, 10])"
      ]
     },
     "execution_count": 14,
     "metadata": {},
     "output_type": "execute_result"
    }
   ],
   "source": [
    "z[::-1]"
   ]
  },
  {
   "cell_type": "code",
   "execution_count": 15,
   "metadata": {},
   "outputs": [
    {
     "data": {
      "text/plain": [
       "array([49, 47, 45, 43, 41, 39, 37, 35, 33, 31, 29, 27, 25, 23, 21, 19, 17,\n",
       "       15, 13, 11])"
      ]
     },
     "execution_count": 15,
     "metadata": {},
     "output_type": "execute_result"
    }
   ],
   "source": [
    "z[::-2]"
   ]
  },
  {
   "cell_type": "code",
   "execution_count": 16,
   "metadata": {},
   "outputs": [
    {
     "data": {
      "text/plain": [
       "array([10, 12, 14, 16, 18, 20, 22, 24, 26, 28, 30, 32, 34, 36, 38, 40, 42,\n",
       "       44, 46, 48])"
      ]
     },
     "execution_count": 16,
     "metadata": {},
     "output_type": "execute_result"
    }
   ],
   "source": [
    "z[::2]"
   ]
  },
  {
   "cell_type": "code",
   "execution_count": 17,
   "metadata": {},
   "outputs": [
    {
     "data": {
      "text/plain": [
       "array([[0, 1, 2],\n",
       "       [3, 4, 5],\n",
       "       [6, 7, 8]])"
      ]
     },
     "execution_count": 17,
     "metadata": {},
     "output_type": "execute_result"
    }
   ],
   "source": [
    "z = np.arange(0,9)\n",
    "z.reshape(3,3)"
   ]
  },
  {
   "cell_type": "code",
   "execution_count": 19,
   "metadata": {},
   "outputs": [
    {
     "name": "stdout",
     "output_type": "stream",
     "text": [
      "(array([0, 1, 4], dtype=int64),)\n"
     ]
    }
   ],
   "source": [
    "z = [1, 2, 0, 0, 4, 0]\n",
    "z1 = np.nonzero(z)\n",
    "print(z1)"
   ]
  },
  {
   "cell_type": "code",
   "execution_count": 22,
   "metadata": {},
   "outputs": [
    {
     "name": "stdout",
     "output_type": "stream",
     "text": [
      "[[1. 0. 0.]\n",
      " [0. 1. 0.]\n",
      " [0. 0. 1.]]\n"
     ]
    }
   ],
   "source": [
    "z = np.eye(3,3)\n",
    "print(z)"
   ]
  },
  {
   "cell_type": "code",
   "execution_count": 24,
   "metadata": {},
   "outputs": [
    {
     "name": "stdout",
     "output_type": "stream",
     "text": [
      "[[0.52970037 0.99408067 0.26589347]\n",
      " [0.70076139 0.19075178 0.08715669]\n",
      " [0.44625272 0.68725746 0.58989645]]\n",
      "[[[0.35303434 0.73095789 0.76588771]\n",
      "  [0.86747663 0.3843893  0.62667013]\n",
      "  [0.25268178 0.28449537 0.74939268]]\n",
      "\n",
      " [[0.03405521 0.38646722 0.62989264]\n",
      "  [0.19055207 0.06614281 0.05790811]\n",
      "  [0.39386104 0.44799603 0.04991653]]\n",
      "\n",
      " [[0.76850322 0.90257708 0.26362058]\n",
      "  [0.12838939 0.39568116 0.08792314]\n",
      "  [0.91220859 0.25762149 0.62223261]]]\n"
     ]
    }
   ],
   "source": [
    "z1 = np.random.random((3,3))\n",
    "z2 = np.random.random((3,3,3))\n",
    "\n",
    "print(z1)\n",
    "print(z2)"
   ]
  },
  {
   "cell_type": "code",
   "execution_count": 25,
   "metadata": {},
   "outputs": [
    {
     "name": "stdout",
     "output_type": "stream",
     "text": [
      "[[0.39766146 0.99029548 0.79116214 0.40503212 0.59046035 0.93925348\n",
      "  0.14375129 0.17189761 0.61225831 0.71594749]\n",
      " [0.53795727 0.74190559 0.49076873 0.28402782 0.90909077 0.79557738\n",
      "  0.44816814 0.49705092 0.5387656  0.99911948]\n",
      " [0.86796738 0.22660336 0.18927614 0.35805163 0.45748243 0.29396598\n",
      "  0.1855346  0.8495318  0.44197679 0.54501394]\n",
      " [0.24741958 0.96508536 0.17062033 0.31756864 0.35047957 0.90622228\n",
      "  0.73905638 0.62493919 0.59338664 0.06708418]\n",
      " [0.47424728 0.06613333 0.65354384 0.11517626 0.43609791 0.88507171\n",
      "  0.06692426 0.82963323 0.86079033 0.79783986]\n",
      " [0.83641791 0.58567767 0.02242792 0.83631496 0.68199948 0.77959948\n",
      "  0.41031673 0.14115172 0.34710235 0.27180159]\n",
      " [0.87526867 0.35114951 0.29164201 0.07347489 0.39280166 0.41618897\n",
      "  0.02860945 0.56189286 0.24476475 0.25130159]\n",
      " [0.10235826 0.70117299 0.22428699 0.40569434 0.3977395  0.72124803\n",
      "  0.7399349  0.44874185 0.92416987 0.07917482]\n",
      " [0.36760533 0.60563174 0.5504855  0.85930171 0.18295331 0.4699239\n",
      "  0.0825355  0.7096974  0.43514648 0.9212869 ]\n",
      " [0.40518808 0.85634842 0.16720014 0.50534252 0.78281486 0.37611183\n",
      "  0.92887943 0.79783449 0.2760062  0.52082447]]\n",
      "Z max: 0.999119475121431 Z min: 0.022427923757558865\n"
     ]
    }
   ],
   "source": [
    "z = np.random.random((10,10))\n",
    "print(z)\n",
    "print(\"Z max:\", z.max(), \"Z min:\", z.min())\n"
   ]
  },
  {
   "cell_type": "code",
   "execution_count": 27,
   "metadata": {},
   "outputs": [
    {
     "name": "stdout",
     "output_type": "stream",
     "text": [
      "0.5077360203608753\n"
     ]
    }
   ],
   "source": [
    "z = np.random.random(30)\n",
    "print(z.mean())"
   ]
  },
  {
   "cell_type": "code",
   "execution_count": 28,
   "metadata": {},
   "outputs": [
    {
     "name": "stdout",
     "output_type": "stream",
     "text": [
      "[[1. 1. 1. 1. 1. 1. 1. 1. 1. 1.]\n",
      " [1. 0. 0. 0. 0. 0. 0. 0. 0. 1.]\n",
      " [1. 0. 0. 0. 0. 0. 0. 0. 0. 1.]\n",
      " [1. 0. 0. 0. 0. 0. 0. 0. 0. 1.]\n",
      " [1. 0. 0. 0. 0. 0. 0. 0. 0. 1.]\n",
      " [1. 0. 0. 0. 0. 0. 0. 0. 0. 1.]\n",
      " [1. 0. 0. 0. 0. 0. 0. 0. 0. 1.]\n",
      " [1. 0. 0. 0. 0. 0. 0. 0. 0. 1.]\n",
      " [1. 0. 0. 0. 0. 0. 0. 0. 0. 1.]\n",
      " [1. 1. 1. 1. 1. 1. 1. 1. 1. 1.]]\n"
     ]
    }
   ],
   "source": [
    "z = np.ones((10,10))\n",
    "z[1:-1, 1:-1]=0\n",
    "print(z)"
   ]
  },
  {
   "cell_type": "code",
   "execution_count": 30,
   "metadata": {},
   "outputs": [
    {
     "name": "stdout",
     "output_type": "stream",
     "text": [
      "[[0. 0. 0. 0. 0. 0. 0.]\n",
      " [0. 1. 1. 1. 1. 1. 0.]\n",
      " [0. 1. 1. 1. 1. 1. 0.]\n",
      " [0. 1. 1. 1. 1. 1. 0.]\n",
      " [0. 1. 1. 1. 1. 1. 0.]\n",
      " [0. 1. 1. 1. 1. 1. 0.]\n",
      " [0. 0. 0. 0. 0. 0. 0.]]\n"
     ]
    }
   ],
   "source": [
    "z = np.ones((5,5))\n",
    "z = np.pad(z, pad_width=1, mode='constant', constant_values=0)\n",
    "print(z)"
   ]
  },
  {
   "cell_type": "code",
   "execution_count": 36,
   "metadata": {},
   "outputs": [
    {
     "name": "stdout",
     "output_type": "stream",
     "text": [
      "nan\n",
      "False\n",
      "False\n",
      "nan\n",
      "True\n",
      "False\n"
     ]
    }
   ],
   "source": [
    "print(0*np.nan)\n",
    "print(np.nan==np.nan)\n",
    "print(np.inf > np.nan)\n",
    "print(np.nan - np.nan)\n",
    "print(np.nan in set([np.nan]))\n",
    "# 부동소수점 오차로 같지 않음\n",
    "print(0.3 == 3 * 0.1) "
   ]
  },
  {
   "cell_type": "code",
   "execution_count": 39,
   "metadata": {},
   "outputs": [
    {
     "name": "stdout",
     "output_type": "stream",
     "text": [
      "[[0 0 0 0 0]\n",
      " [0 1 0 0 0]\n",
      " [0 0 2 0 0]\n",
      " [0 0 0 3 0]\n",
      " [0 0 0 0 4]]\n"
     ]
    }
   ],
   "source": [
    "z = np.diag(np.arange(5))\n",
    "print(z)"
   ]
  },
  {
   "cell_type": "code",
   "execution_count": 44,
   "metadata": {},
   "outputs": [
    {
     "name": "stdout",
     "output_type": "stream",
     "text": [
      "[[0 0 0 0 0 0]\n",
      " [0 0 0 0 0 0]\n",
      " [1 0 0 0 0 0]\n",
      " [0 2 0 0 0 0]\n",
      " [0 0 3 0 0 0]\n",
      " [0 0 0 4 0 0]]\n"
     ]
    }
   ],
   "source": [
    "z = np.diag(np.arange(4)+1, k=-2)\n",
    "print(z)"
   ]
  },
  {
   "cell_type": "code",
   "execution_count": 51,
   "metadata": {},
   "outputs": [
    {
     "name": "stdout",
     "output_type": "stream",
     "text": [
      "[[0. 1. 0. 1. 0. 1. 0. 1.]\n",
      " [1. 0. 1. 0. 1. 0. 1. 0.]\n",
      " [0. 1. 0. 1. 0. 1. 0. 1.]\n",
      " [1. 0. 1. 0. 1. 0. 1. 0.]\n",
      " [0. 1. 0. 1. 0. 1. 0. 1.]\n",
      " [1. 0. 1. 0. 1. 0. 1. 0.]\n",
      " [0. 1. 0. 1. 0. 1. 0. 1.]\n",
      " [1. 0. 1. 0. 1. 0. 1. 0.]]\n"
     ]
    }
   ],
   "source": [
    "z = np.zeros((8,8))\n",
    "z[1::2,::2]=1\n",
    "z[::2,1::2]=1\n",
    "print(z)"
   ]
  },
  {
   "cell_type": "code",
   "execution_count": 52,
   "metadata": {},
   "outputs": [
    {
     "name": "stdout",
     "output_type": "stream",
     "text": [
      "(1, 5, 4)\n"
     ]
    }
   ],
   "source": [
    "z = np.unravel_index(100,(6,7,8))\n",
    "print(z)"
   ]
  },
  {
   "cell_type": "code",
   "execution_count": null,
   "metadata": {},
   "outputs": [],
   "source": []
  }
 ],
 "metadata": {
  "kernelspec": {
   "display_name": "Python 3",
   "language": "python",
   "name": "python3"
  },
  "language_info": {
   "codemirror_mode": {
    "name": "ipython",
    "version": 3
   },
   "file_extension": ".py",
   "mimetype": "text/x-python",
   "name": "python",
   "nbconvert_exporter": "python",
   "pygments_lexer": "ipython3",
   "version": "3.7.4"
  }
 },
 "nbformat": 4,
 "nbformat_minor": 2
}
